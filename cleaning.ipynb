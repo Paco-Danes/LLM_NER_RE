{
 "cells": [
  {
   "cell_type": "code",
   "execution_count": 5,
   "metadata": {},
   "outputs": [
    {
     "ename": "error",
     "evalue": "look-behind requires fixed-width pattern",
     "output_type": "error",
     "traceback": [
      "\u001b[31m---------------------------------------------------------------------------\u001b[39m",
      "\u001b[31merror\u001b[39m                                     Traceback (most recent call last)",
      "\u001b[36mCell\u001b[39m\u001b[36m \u001b[39m\u001b[32mIn[5]\u001b[39m\u001b[32m, line 31\u001b[39m\n\u001b[32m      1\u001b[39m \u001b[38;5;28;01mimport\u001b[39;00m\u001b[38;5;250m \u001b[39m\u001b[34;01mre\u001b[39;00m\n\u001b[32m      3\u001b[39m \u001b[38;5;66;03m# Compile once, reuse many times.\u001b[39;00m\n\u001b[32m      4\u001b[39m PATTERNS = [\n\u001b[32m      5\u001b[39m     \u001b[38;5;66;03m# 1) Parenthetical references to figures/tables/supplementary and \"ref(s)\"\u001b[39;00m\n\u001b[32m      6\u001b[39m     re.compile(\u001b[33mr\u001b[39m\u001b[33m\"\u001b[39m\u001b[33m\\\u001b[39m\u001b[33m((?:see\u001b[39m\u001b[33m\\\u001b[39m\u001b[33ms+)?(?:extended\u001b[39m\u001b[33m\\\u001b[39m\u001b[33ms+data\u001b[39m\u001b[33m\\\u001b[39m\u001b[33ms+)?fig(?:s|\u001b[39m\u001b[33m\\\u001b[39m\u001b[33m.|ure)?[^)]*\u001b[39m\u001b[33m\\\u001b[39m\u001b[33m)\u001b[39m\u001b[33m\"\u001b[39m, re.I),\n\u001b[32m      7\u001b[39m     re.compile(\u001b[33mr\u001b[39m\u001b[33m\"\u001b[39m\u001b[33m\\\u001b[39m\u001b[33m((?:see\u001b[39m\u001b[33m\\\u001b[39m\u001b[33ms+)?table(?:s|\u001b[39m\u001b[33m\\\u001b[39m\u001b[33m.)?[^)]*\u001b[39m\u001b[33m\\\u001b[39m\u001b[33m)\u001b[39m\u001b[33m\"\u001b[39m, re.I),\n\u001b[32m      8\u001b[39m     re.compile(\u001b[33mr\u001b[39m\u001b[33m\"\u001b[39m\u001b[33m\\\u001b[39m\u001b[33m((?:supplementary|supp\u001b[39m\u001b[33m\\\u001b[39m\u001b[33m.)[^)]*\u001b[39m\u001b[33m\\\u001b[39m\u001b[33m)\u001b[39m\u001b[33m\"\u001b[39m, re.I),\n\u001b[32m      9\u001b[39m     re.compile(\u001b[33mr\u001b[39m\u001b[33m\"\u001b[39m\u001b[33m\\\u001b[39m\u001b[33m((?:ref\u001b[39m\u001b[33m\\\u001b[39m\u001b[33m.?|refs\u001b[39m\u001b[33m\\\u001b[39m\u001b[33m.?)\u001b[39m\u001b[33m\\\u001b[39m\u001b[33ms*[\u001b[39m\u001b[33m\\\u001b[39m\u001b[33md,\u001b[39m\u001b[33m\\\u001b[39m\u001b[33m-\u001b[39m\u001b[33m\\\u001b[39m\u001b[33m–\u001b[39m\u001b[33m\\\u001b[39m\u001b[33ms]+[a-z]?\u001b[39m\u001b[33m\\\u001b[39m\u001b[33m)\u001b[39m\u001b[33m\"\u001b[39m, re.I),\n\u001b[32m     10\u001b[39m \n\u001b[32m     11\u001b[39m     \u001b[38;5;66;03m# 2) Bracketed numeric citations like [1], [2–4,6]\u001b[39;00m\n\u001b[32m     12\u001b[39m     re.compile(\u001b[33mr\u001b[39m\u001b[33m\"\u001b[39m\u001b[33m\\\u001b[39m\u001b[33m[\u001b[39m\u001b[33m\\\u001b[39m\u001b[33ms*\u001b[39m\u001b[33m\\\u001b[39m\u001b[33md+(?:\u001b[39m\u001b[33m\\\u001b[39m\u001b[33ms*[\u001b[39m\u001b[33m\\\u001b[39m\u001b[33m-–,]\u001b[39m\u001b[33m\\\u001b[39m\u001b[33ms*\u001b[39m\u001b[33m\\\u001b[39m\u001b[33md+)*\u001b[39m\u001b[33m\\\u001b[39m\u001b[33ms*\u001b[39m\u001b[33m\\\u001b[39m\u001b[33m]\u001b[39m\u001b[33m\"\u001b[39m),\n\u001b[32m     13\u001b[39m \n\u001b[32m     14\u001b[39m     \u001b[38;5;66;03m# 3) Standalone inline \"ref./refs.\" without parentheses (rarer, but appears)\u001b[39;00m\n\u001b[32m     15\u001b[39m     re.compile(\u001b[33mr\u001b[39m\u001b[33m\"\u001b[39m\u001b[33m\\\u001b[39m\u001b[33mb(?:ref\u001b[39m\u001b[33m\\\u001b[39m\u001b[33m.?|refs\u001b[39m\u001b[33m\\\u001b[39m\u001b[33m.?)\u001b[39m\u001b[33m\\\u001b[39m\u001b[33ms*\u001b[39m\u001b[33m\\\u001b[39m\u001b[33md+(?:\u001b[39m\u001b[33m\\\u001b[39m\u001b[33ms*[\u001b[39m\u001b[33m\\\u001b[39m\u001b[33m-–,]\u001b[39m\u001b[33m\\\u001b[39m\u001b[33ms*\u001b[39m\u001b[33m\\\u001b[39m\u001b[33md+)*\u001b[39m\u001b[33m\\\u001b[39m\u001b[33mb\u001b[39m\u001b[33m\"\u001b[39m, re.I),\n\u001b[32m     16\u001b[39m \n\u001b[32m     17\u001b[39m     \u001b[38;5;66;03m# 4) Non-parenthetical mentions of Fig./Figs./Extended Data Fig./Table, optionally with parts a,b,c\u001b[39;00m\n\u001b[32m     18\u001b[39m     \u001b[38;5;66;03m#    Examples: \"Fig. 4d\", \"Figs. 2–4\", \"Extended Data Fig. 10a,b\", \"Table 3\"\u001b[39;00m\n\u001b[32m     19\u001b[39m     re.compile(\n\u001b[32m     20\u001b[39m         \u001b[33mr\u001b[39m\u001b[33m\"\u001b[39m\u001b[33m\\\u001b[39m\u001b[33mb(?:extended\u001b[39m\u001b[33m\\\u001b[39m\u001b[33ms+data\u001b[39m\u001b[33m\\\u001b[39m\u001b[33ms+)?fig(?:s|\u001b[39m\u001b[33m\\\u001b[39m\u001b[33m.|ure)?\u001b[39m\u001b[33m\\\u001b[39m\u001b[33m.?\u001b[39m\u001b[33m\\\u001b[39m\u001b[33ms*\u001b[39m\u001b[33m\\\u001b[39m\u001b[33md+[a-z]?(?:\u001b[39m\u001b[33m\\\u001b[39m\u001b[33ms*[,\u001b[39m\u001b[33m\\\u001b[39m\u001b[33m-–]\u001b[39m\u001b[33m\\\u001b[39m\u001b[33ms*\u001b[39m\u001b[33m\\\u001b[39m\u001b[33md+[a-z]?)*(?:\u001b[39m\u001b[33m\\\u001b[39m\u001b[33ms*[a-z](?:\u001b[39m\u001b[33m\\\u001b[39m\u001b[33ms*,\u001b[39m\u001b[33m\\\u001b[39m\u001b[33ms*[a-z])*)?\u001b[39m\u001b[33m\"\u001b[39m,\n\u001b[32m     21\u001b[39m         re.I,\n\u001b[32m     22\u001b[39m     ),\n\u001b[32m     23\u001b[39m     re.compile(\n\u001b[32m     24\u001b[39m         \u001b[33mr\u001b[39m\u001b[33m\"\u001b[39m\u001b[33m\\\u001b[39m\u001b[33mbtable(?:s|\u001b[39m\u001b[33m\\\u001b[39m\u001b[33m.)?\u001b[39m\u001b[33m\\\u001b[39m\u001b[33ms*\u001b[39m\u001b[33m\\\u001b[39m\u001b[33md+[a-z]?(?:\u001b[39m\u001b[33m\\\u001b[39m\u001b[33ms*[,\u001b[39m\u001b[33m\\\u001b[39m\u001b[33m-–]\u001b[39m\u001b[33m\\\u001b[39m\u001b[33ms*\u001b[39m\u001b[33m\\\u001b[39m\u001b[33md+[a-z]?)*\u001b[39m\u001b[33m\"\u001b[39m,\n\u001b[32m     25\u001b[39m         re.I,\n\u001b[32m     26\u001b[39m     ),\n\u001b[32m     27\u001b[39m \n\u001b[32m     28\u001b[39m     \u001b[38;5;66;03m# 5) Trailing superscript-style numbers stuck to a word (e.g., \"neurogenesis52\")\u001b[39;00m\n\u001b[32m     29\u001b[39m     \u001b[38;5;66;03m#    Keep this conservative to avoid eating gene symbols like \"IL6\".\u001b[39;00m\n\u001b[32m     30\u001b[39m     \u001b[38;5;66;03m#    Heuristic: preceding token is alphabetic and >= 6 chars, followed by 1–3 digits and a boundary.\u001b[39;00m\n\u001b[32m---> \u001b[39m\u001b[32m31\u001b[39m     \u001b[43mre\u001b[49m\u001b[43m.\u001b[49m\u001b[43mcompile\u001b[49m\u001b[43m(\u001b[49m\u001b[33;43mr\u001b[39;49m\u001b[33;43m\"\u001b[39;49m\u001b[33;43m(?<=\u001b[39;49m\u001b[33;43m\\\u001b[39;49m\u001b[33;43mb[A-Za-z][A-Za-z\u001b[39;49m\u001b[33;43m\\\u001b[39;49m\u001b[33;43m-]\u001b[39;49m\u001b[33;43m{\u001b[39;49m\u001b[33;43m5,})\u001b[39;49m\u001b[33;43m\\\u001b[39;49m\u001b[33;43md\u001b[39;49m\u001b[33;43m{\u001b[39;49m\u001b[33;43m1,3}(?=\u001b[39;49m\u001b[33;43m\\\u001b[39;49m\u001b[33;43mb|[\u001b[39;49m\u001b[33;43m\\\u001b[39;49m\u001b[33;43ms\u001b[39;49m\u001b[33;43m\\\u001b[39;49m\u001b[33;43m.\u001b[39;49m\u001b[33;43m\\\u001b[39;49m\u001b[33;43m,\u001b[39;49m\u001b[33;43m\\\u001b[39;49m\u001b[33;43m;\u001b[39;49m\u001b[33;43m\\\u001b[39;49m\u001b[33;43m:\u001b[39;49m\u001b[33;43m\\\u001b[39;49m\u001b[33;43m)])\u001b[39;49m\u001b[33;43m\"\u001b[39;49m\u001b[43m)\u001b[49m,\n\u001b[32m     32\u001b[39m ]\n\u001b[32m     34\u001b[39m \u001b[38;5;66;03m# Optional: normalize fancy dashes to ASCII to simplify ranges.\u001b[39;00m\n\u001b[32m     35\u001b[39m DASHES = re.compile(\u001b[33mr\u001b[39m\u001b[33m\"\u001b[39m\u001b[33m[–—‒−]+\u001b[39m\u001b[33m\"\u001b[39m)\n",
      "\u001b[36mFile \u001b[39m\u001b[32mc:\\Users\\devin\\miniforge3\\Lib\\re\\__init__.py:228\u001b[39m, in \u001b[36mcompile\u001b[39m\u001b[34m(pattern, flags)\u001b[39m\n\u001b[32m    226\u001b[39m \u001b[38;5;28;01mdef\u001b[39;00m\u001b[38;5;250m \u001b[39m\u001b[34mcompile\u001b[39m(pattern, flags=\u001b[32m0\u001b[39m):\n\u001b[32m    227\u001b[39m     \u001b[33m\"\u001b[39m\u001b[33mCompile a regular expression pattern, returning a Pattern object.\u001b[39m\u001b[33m\"\u001b[39m\n\u001b[32m--> \u001b[39m\u001b[32m228\u001b[39m     \u001b[38;5;28;01mreturn\u001b[39;00m \u001b[43m_compile\u001b[49m\u001b[43m(\u001b[49m\u001b[43mpattern\u001b[49m\u001b[43m,\u001b[49m\u001b[43m \u001b[49m\u001b[43mflags\u001b[49m\u001b[43m)\u001b[49m\n",
      "\u001b[36mFile \u001b[39m\u001b[32mc:\\Users\\devin\\miniforge3\\Lib\\re\\__init__.py:307\u001b[39m, in \u001b[36m_compile\u001b[39m\u001b[34m(pattern, flags)\u001b[39m\n\u001b[32m    301\u001b[39m     \u001b[38;5;28;01mimport\u001b[39;00m\u001b[38;5;250m \u001b[39m\u001b[34;01mwarnings\u001b[39;00m\n\u001b[32m    302\u001b[39m     warnings.warn(\u001b[33m\"\u001b[39m\u001b[33mThe re.TEMPLATE/re.T flag is deprecated \u001b[39m\u001b[33m\"\u001b[39m\n\u001b[32m    303\u001b[39m             \u001b[33m\"\u001b[39m\u001b[33mas it is an undocumented flag \u001b[39m\u001b[33m\"\u001b[39m\n\u001b[32m    304\u001b[39m             \u001b[33m\"\u001b[39m\u001b[33mwithout an obvious purpose. \u001b[39m\u001b[33m\"\u001b[39m\n\u001b[32m    305\u001b[39m             \u001b[33m\"\u001b[39m\u001b[33mDon\u001b[39m\u001b[33m'\u001b[39m\u001b[33mt use it.\u001b[39m\u001b[33m\"\u001b[39m,\n\u001b[32m    306\u001b[39m             \u001b[38;5;167;01mDeprecationWarning\u001b[39;00m)\n\u001b[32m--> \u001b[39m\u001b[32m307\u001b[39m p = \u001b[43m_compiler\u001b[49m\u001b[43m.\u001b[49m\u001b[43mcompile\u001b[49m\u001b[43m(\u001b[49m\u001b[43mpattern\u001b[49m\u001b[43m,\u001b[49m\u001b[43m \u001b[49m\u001b[43mflags\u001b[49m\u001b[43m)\u001b[49m\n\u001b[32m    308\u001b[39m \u001b[38;5;28;01mif\u001b[39;00m flags & DEBUG:\n\u001b[32m    309\u001b[39m     \u001b[38;5;28;01mreturn\u001b[39;00m p\n",
      "\u001b[36mFile \u001b[39m\u001b[32mc:\\Users\\devin\\miniforge3\\Lib\\re\\_compiler.py:754\u001b[39m, in \u001b[36mcompile\u001b[39m\u001b[34m(p, flags)\u001b[39m\n\u001b[32m    751\u001b[39m \u001b[38;5;28;01melse\u001b[39;00m:\n\u001b[32m    752\u001b[39m     pattern = \u001b[38;5;28;01mNone\u001b[39;00m\n\u001b[32m--> \u001b[39m\u001b[32m754\u001b[39m code = \u001b[43m_code\u001b[49m\u001b[43m(\u001b[49m\u001b[43mp\u001b[49m\u001b[43m,\u001b[49m\u001b[43m \u001b[49m\u001b[43mflags\u001b[49m\u001b[43m)\u001b[49m\n\u001b[32m    756\u001b[39m \u001b[38;5;28;01mif\u001b[39;00m flags & SRE_FLAG_DEBUG:\n\u001b[32m    757\u001b[39m     \u001b[38;5;28mprint\u001b[39m()\n",
      "\u001b[36mFile \u001b[39m\u001b[32mc:\\Users\\devin\\miniforge3\\Lib\\re\\_compiler.py:587\u001b[39m, in \u001b[36m_code\u001b[39m\u001b[34m(p, flags)\u001b[39m\n\u001b[32m    584\u001b[39m _compile_info(code, p, flags)\n\u001b[32m    586\u001b[39m \u001b[38;5;66;03m# compile the pattern\u001b[39;00m\n\u001b[32m--> \u001b[39m\u001b[32m587\u001b[39m \u001b[43m_compile\u001b[49m\u001b[43m(\u001b[49m\u001b[43mcode\u001b[49m\u001b[43m,\u001b[49m\u001b[43m \u001b[49m\u001b[43mp\u001b[49m\u001b[43m.\u001b[49m\u001b[43mdata\u001b[49m\u001b[43m,\u001b[49m\u001b[43m \u001b[49m\u001b[43mflags\u001b[49m\u001b[43m)\u001b[49m\n\u001b[32m    589\u001b[39m code.append(SUCCESS)\n\u001b[32m    591\u001b[39m \u001b[38;5;28;01mreturn\u001b[39;00m code\n",
      "\u001b[36mFile \u001b[39m\u001b[32mc:\\Users\\devin\\miniforge3\\Lib\\re\\_compiler.py:155\u001b[39m, in \u001b[36m_compile\u001b[39m\u001b[34m(code, pattern, flags)\u001b[39m\n\u001b[32m    153\u001b[39m         \u001b[38;5;28;01mraise\u001b[39;00m error(\u001b[33m\"\u001b[39m\u001b[33mlooks too much behind\u001b[39m\u001b[33m\"\u001b[39m)\n\u001b[32m    154\u001b[39m     \u001b[38;5;28;01mif\u001b[39;00m lo != hi:\n\u001b[32m--> \u001b[39m\u001b[32m155\u001b[39m         \u001b[38;5;28;01mraise\u001b[39;00m error(\u001b[33m\"\u001b[39m\u001b[33mlook-behind requires fixed-width pattern\u001b[39m\u001b[33m\"\u001b[39m)\n\u001b[32m    156\u001b[39m     emit(lo) \u001b[38;5;66;03m# look behind\u001b[39;00m\n\u001b[32m    157\u001b[39m _compile(code, av[\u001b[32m1\u001b[39m], flags)\n",
      "\u001b[31merror\u001b[39m: look-behind requires fixed-width pattern"
     ]
    }
   ],
   "source": [
    "import re\n",
    "\n",
    "# Compile once, reuse many times.\n",
    "def remove_trailing_numbers(text: str) -> str:\n",
    "    # Matches any word with optional hyphens followed by digits\n",
    "    # e.g., \"neurogenesis52\", \"patterned-ectoderm25\"\n",
    "    def repl(match):\n",
    "        word = match.group(1)\n",
    "        digits = match.group(2)\n",
    "        # only drop the digits if the alphabetic part is long enough\n",
    "        return word if len(word) > 8 else word + digits\n",
    "\n",
    "    return re.sub(r\"\\b([A-Za-z\\-]+?)(\\d{1,3})\\b\", repl, text)\n",
    "\n",
    "PATTERNS = [\n",
    "    # 1) Parenthetical references to figures/tables/supplementary and \"ref(s)\"\n",
    "    re.compile(r\"\\((?:see\\s+)?(?:extended\\s+data\\s+)?fig(?:s|\\.|ure)?[^)]*\\)\", re.I),\n",
    "    re.compile(r\"\\((?:see\\s+)?table(?:s|\\.)?[^)]*\\)\", re.I),\n",
    "    re.compile(r\"\\((?:supplementary|supp\\.)[^)]*\\)\", re.I),\n",
    "    re.compile(r\"\\((?:ref\\.?|refs\\.?)\\s*[\\d,\\-\\–\\s]+[a-z]?\\)\", re.I),\n",
    "\n",
    "    # 2) Bracketed numeric citations like [1], [2–4,6]\n",
    "    re.compile(r\"\\[\\s*\\d+(?:\\s*[\\-–,]\\s*\\d+)*\\s*\\]\"),\n",
    "\n",
    "    # 3) Standalone inline \"ref./refs.\" without parentheses (rarer, but appears)\n",
    "    re.compile(r\"\\b(?:ref\\.?|refs\\.?)\\s*\\d+(?:\\s*[\\-–,]\\s*\\d+)*\\b\", re.I),\n",
    "\n",
    "    # 4) Non-parenthetical mentions of Fig./Figs./Extended Data Fig./Table, optionally with parts a,b,c\n",
    "    #    Examples: \"Fig. 4d\", \"Figs. 2–4\", \"Extended Data Fig. 10a,b\", \"Table 3\"\n",
    "    re.compile(\n",
    "        r\"\\b(?:extended\\s+data\\s+)?fig(?:s|\\.|ure)?\\.?\\s*\\d+[a-z]?(?:\\s*[,\\-–]\\s*\\d+[a-z]?)*(?:\\s*[a-z](?:\\s*,\\s*[a-z])*)?\",\n",
    "        re.I,\n",
    "    ),\n",
    "    re.compile(\n",
    "        r\"\\btable(?:s|\\.)?\\s*\\d+[a-z]?(?:\\s*[,\\-–]\\s*\\d+[a-z]?)*\",\n",
    "        re.I,\n",
    "    ),\n",
    "\n",
    "    # 5) Trailing superscript-style numbers stuck to a word (e.g., \"neurogenesis52\")\n",
    "    #    Keep this conservative to avoid eating gene symbols like \"IL6\".\n",
    "    #    Heuristic: preceding token is alphabetic and >= 6 chars, followed by 1–3 digits and a boundary.\n",
    "    re.compile(r\"(?<=\\b[A-Za-z][A-Za-z\\-]{5,})\\d{1,3}(?=\\b|[\\s\\.\\,\\;\\:\\)])\"),\n",
    "]\n",
    "\n",
    "# Optional: normalize fancy dashes to ASCII to simplify ranges.\n",
    "DASHES = re.compile(r\"[–—‒−]+\")\n",
    "\n",
    "def clean_citations(text: str) -> str:\n",
    "    # 0) Normalize dashes so range patterns are easier to match (purely cosmetic).\n",
    "    text = DASHES.sub(\"-\", text)\n",
    "\n",
    "    # 1) Remove targeted patterns\n",
    "    for pat in PATTERNS:\n",
    "        text = pat.sub(\"\", text)\n",
    "\n",
    "    # 2) Tidy up leftover punctuation/spaces from removals\n",
    "    # Remove empty parentheses/brackets that might be left behind\n",
    "    text = re.sub(r\"\\(\\s*\\)\", \"\", text)\n",
    "    text = re.sub(r\"\\[\\s*\\]\", \"\", text)\n",
    "    # Collapse multiple spaces\n",
    "    text = re.sub(r\"\\s{2,}\", \" \", text)\n",
    "    # Fix spaces before punctuation\n",
    "    text = re.sub(r\"\\s+([,\\.\\;\\:\\)])\", r\"\\1\", text)\n",
    "    # Ensure space after sentence-ending punctuation if missing\n",
    "    text = re.sub(r\"([\\.!\\?])([A-Z])\", r\"\\1 \\2\", text)\n",
    "    return text.strip()\n",
    "\n",
    "\n",
    "# --- Example ---\n",
    "sample = \"\"\"Beginning as early as the 16-somite stage, most neuronal diversity derives from direct neurogenesis (Fig. 4d), including motor neurons, cerebellar Purkinje cells, Cajal–Retzius cells and many other subtypes (CNS neurons sub-panel of Extended Data Fig. 3). Indirect neurogenesis52 has a later start, with intermediate neuronal progenitors first detected at E10.25, later giving rise to deep-layer neurons, upper-layer neurons, subplate neurons, and cortical interneurons (Fig. 4d and Extended Data Fig. 10a,b). Although many subtypes deriving from direct neurogenesis are easily distinguished, the majority (55%) of these 2.1 million cells could initially only be coarsely annotated as glutamatergic or GABAergic (γ-aminobutyric acid-producing) neurons or dorsal or ventral spinal cord progenitors. To leverage the greater heterogeneity evident at early stages as these trajectories ‘launch’ from the patterned neuroectoderm, we re-analysed the pre-E13 subset. This facilitated much more granular annotation, while also highlighting sources of heterogeneity—for example, anterior versus posterior or inhibitory versus excitatory (Fig. 4e, Extended Data Fig. 10c,d and Supplementary Table 12)\"\"\"\n",
    "\n",
    "print(clean_citations(sample))"
   ]
  },
  {
   "cell_type": "code",
   "execution_count": null,
   "metadata": {},
   "outputs": [],
   "source": []
  }
 ],
 "metadata": {
  "kernelspec": {
   "display_name": "base",
   "language": "python",
   "name": "python3"
  },
  "language_info": {
   "codemirror_mode": {
    "name": "ipython",
    "version": 3
   },
   "file_extension": ".py",
   "mimetype": "text/x-python",
   "name": "python",
   "nbconvert_exporter": "python",
   "pygments_lexer": "ipython3",
   "version": "3.12.11"
  }
 },
 "nbformat": 4,
 "nbformat_minor": 2
}
