{
 "cells": [
  {
   "cell_type": "code",
   "execution_count": 1,
   "metadata": {},
   "outputs": [],
   "source": [
    "from __future__ import annotations\n",
    "\n",
    "import os\n",
    "from typing import List, Optional, Dict, Type, Union\n",
    "\n",
    "from dotenv import load_dotenv\n",
    "from pydantic import BaseModel, Field, create_model, field_serializer\n",
    "from neo4j import GraphDatabase\n",
    "\n",
    "from langchain_core.prompts import ChatPromptTemplate\n",
    "from langchain_openai import ChatOpenAI\n",
    "import re"
   ]
  },
  {
   "cell_type": "code",
   "execution_count": 2,
   "metadata": {},
   "outputs": [],
   "source": [
    "load_dotenv()\n",
    "\n",
    "OPENAI_MODEL = os.getenv(\"OPENAI_MODEL\", \"gpt-5-mini\")\n",
    "OPENAI_API_KEY = os.getenv(\"OPENAI_API_KEY\")\n",
    "\n",
    "NEO4J_URI = os.getenv(\"NEO4J_URI\", \"bolt://localhost:7687\")\n",
    "NEO4J_USER = os.getenv(\"NEO4J_USER\", \"neo4j\")\n",
    "NEO4J_PASSWORD = os.getenv(\"NEO4J_PASSWORD\", \"neo4j\")"
   ]
  },
  {
   "cell_type": "markdown",
   "metadata": {},
   "source": [
    "STRUCTURED SCHEMA (Pydantic) — only allowed entities/edges appear"
   ]
  },
  {
   "cell_type": "code",
   "execution_count": 3,
   "metadata": {},
   "outputs": [
    {
     "data": {
      "text/plain": [
       "32"
      ]
     },
     "execution_count": 3,
     "metadata": {},
     "output_type": "execute_result"
    }
   ],
   "source": [
    "from entities import Entity_Collector\n",
    "\n",
    "ENTITY_MODEL_REGISTRY: Dict[str, Type[BaseModel]] = {\n",
    "    cls.__name__: cls for cls in Entity_Collector()\n",
    "}\n",
    "\n",
    "len(ENTITY_MODEL_REGISTRY)"
   ]
  },
  {
   "cell_type": "code",
   "execution_count": 4,
   "metadata": {},
   "outputs": [],
   "source": [
    "# ---------- 2) (Toy) prefilter that decides which types to include ----------\n",
    "def prefilter_entity_types(all_types: List[str]) -> List[str]:\n",
    "    \"\"\"\n",
    "    Replace with your real logic. For now, pretend we only want protein, gene, drug.\n",
    "    \"\"\"\n",
    "    allowed = {\"Gene\", \"SmallMolecule\", \"CNSFunction\"}\n",
    "    return [t for t in all_types if t in allowed]\n",
    "\n",
    "# ---------- 3) Dynamic Entities model factory ----------\n",
    "def build_entities_model(selected_types: List[str]) -> Type[BaseModel]:\n",
    "    \"\"\"\n",
    "    Create a Pydantic model class with only the selected types as optional List fields.\n",
    "    Each field is omitted from the final JSON if None.\n",
    "    \"\"\"\n",
    "    fields = {}\n",
    "    for t in selected_types:\n",
    "        item_model = ENTITY_MODEL_REGISTRY[t]\n",
    "        # Optional[List[item_model]] default None\n",
    "        fields[t + \"s\"] = (Optional[List[item_model]], Field(default=None))\n",
    "\n",
    "    model_name = \"ExtractedEntities\" \n",
    "    # Create the model\n",
    "    Entities = create_model(model_name, **fields, __doc__=\"Holds the lists of extracted entities divided by type\")\n",
    "\n",
    "    return Entities"
   ]
  },
  {
   "cell_type": "code",
   "execution_count": 5,
   "metadata": {},
   "outputs": [
    {
     "name": "stdout",
     "output_type": "stream",
     "text": [
      "<class 'pydantic._internal._model_construction.ModelMetaclass'>\n"
     ]
    },
    {
     "data": {
      "text/plain": [
       "{'Genes': FieldInfo(annotation=Union[List[Gene], NoneType], required=False, default=None),\n",
       " 'SmallMolecules': FieldInfo(annotation=Union[List[SmallMolecule], NoneType], required=False, default=None),\n",
       " 'CNSFunctions': FieldInfo(annotation=Union[List[CNSFunction], NoneType], required=False, default=None)}"
      ]
     },
     "execution_count": 5,
     "metadata": {},
     "output_type": "execute_result"
    }
   ],
   "source": [
    "# test above fucntions\n",
    "all_types = list(ENTITY_MODEL_REGISTRY.keys())\n",
    "selected_types = prefilter_entity_types(all_types)\n",
    "EntitiesModel = build_entities_model(selected_types)\n",
    "\n",
    "print(type(EntitiesModel))\n",
    "EntitiesModel.model_fields"
   ]
  },
  {
   "cell_type": "code",
   "execution_count": 6,
   "metadata": {},
   "outputs": [
    {
     "data": {
      "text/plain": [
       "{'$defs': {'CNSFunction': {'description': 'A specific function or process carried out by the central nervous system (CNS), which includes the brain and spinal cord.\\nExamples: \"Vision\", \"motor control\", \"temperature regulation\", \"emotional regulation\", \"language comprehension\", \"hearing\", \"balance\", \"breathing control\".',\n",
       "   'properties': {'label': {'description': 'Surface form (name) of the CNSFunction as it appears in the text.',\n",
       "     'title': 'Label',\n",
       "     'type': 'string'},\n",
       "    'type': {'anyOf': [{'enum': ['SensoryFunction',\n",
       "        'MotorFunction',\n",
       "        'RegulatoryFunction',\n",
       "        'HigherCognitiveFunction'],\n",
       "       'type': 'string'},\n",
       "      {'type': 'null'}],\n",
       "     'default': None,\n",
       "     'description': 'Type of CNS function, None if generic or other.',\n",
       "     'title': 'Type'}},\n",
       "   'required': ['label'],\n",
       "   'title': 'CNSFunction',\n",
       "   'type': 'object'},\n",
       "  'Gene': {'description': 'A stretch of DNA (or locus) that encodes (or is associated with) a functional product, such as an RNA or protein.\\nExamples: \"BRCA1\", \"TP53\", \"EGFR gene\", \"MYC\", \"APOE\".',\n",
       "   'properties': {'label': {'description': 'Surface form (name) of the Gene as it appears in the text.',\n",
       "     'title': 'Label',\n",
       "     'type': 'string'}},\n",
       "   'required': ['label'],\n",
       "   'title': 'Gene',\n",
       "   'type': 'object'},\n",
       "  'SmallMolecule': {'description': 'Molecular entity characterized by availability in small-molecule databases of SMILES, InChI, IUPAC, with any valid chemical representation even not strictly molecular (e.g sodium ion)\\nExamples: \"glucose\", \"ATP\", \"Cholesterol\", \"Ethanol\", \"NADH\", \"dopamine\", \"lactic acid\", \"Caffeine\", \"Oxygen\".',\n",
       "   'properties': {'label': {'description': 'Surface form (name) of the SmallMolecule as it appears in the text.',\n",
       "     'title': 'Label',\n",
       "     'type': 'string'}},\n",
       "   'required': ['label'],\n",
       "   'title': 'SmallMolecule',\n",
       "   'type': 'object'}},\n",
       " 'description': 'Holds the lists of extracted entities divided by type',\n",
       " 'properties': {'Genes': {'anyOf': [{'items': {'$ref': '#/$defs/Gene'},\n",
       "     'type': 'array'},\n",
       "    {'type': 'null'}],\n",
       "   'default': None,\n",
       "   'title': 'Genes'},\n",
       "  'SmallMolecules': {'anyOf': [{'items': {'$ref': '#/$defs/SmallMolecule'},\n",
       "     'type': 'array'},\n",
       "    {'type': 'null'}],\n",
       "   'default': None,\n",
       "   'title': 'Smallmolecules'},\n",
       "  'CNSFunctions': {'anyOf': [{'items': {'$ref': '#/$defs/CNSFunction'},\n",
       "     'type': 'array'},\n",
       "    {'type': 'null'}],\n",
       "   'default': None,\n",
       "   'title': 'Cnsfunctions'}},\n",
       " 'title': 'ExtractedEntities',\n",
       " 'type': 'object'}"
      ]
     },
     "execution_count": 6,
     "metadata": {},
     "output_type": "execute_result"
    }
   ],
   "source": [
    "EntitiesModel.model_json_schema() # also docstrings of nested classes are included !!!"
   ]
  },
  {
   "cell_type": "markdown",
   "metadata": {},
   "source": [
    "SYSTEM PROMPT"
   ]
  },
  {
   "cell_type": "code",
   "execution_count": 7,
   "metadata": {},
   "outputs": [],
   "source": [
    "# ---------- 4) Prompt builder that reflects the selected types ----------\n",
    "def build_system_prompt(selected_types: List[str]) -> str:\n",
    "    type_list = \", \".join(selected_types)\n",
    "    return f\"\"\"You are a state-of-the-art biological information extraction model that performs Named Entity Recognition (NER);\n",
    "    \n",
    "Return ONLY these entity classes: {type_list}.\n",
    "\n",
    "INSTRUCTIONS:\n",
    "- Extract entities only if they match the allowed entity class.\n",
    "- Use the exact surface form from the text for labels (do not normalize or invent) but generate a unique id.\n",
    "- If nothing is found for a class, it should be None (so it can be dropped from the JSON).\n",
    "- For class fields like types and other attributes, use your knowledge to fill them, if too ambiguous use None.\n",
    "- Keep concise entities labels, no need to specify their class in the label (e.g from \"... protein pt42 ...\" extract \"pt42\" as label not \"protein pt42\").\n",
    "\n",
    "Output MUST conform to the provided schema you were given via the structured output tool.\n",
    "\"\"\"\n"
   ]
  },
  {
   "cell_type": "markdown",
   "metadata": {},
   "source": [
    "LLM CHAIN"
   ]
  },
  {
   "cell_type": "code",
   "execution_count": 8,
   "metadata": {},
   "outputs": [],
   "source": [
    "# ---------- 5) Chain factory ----------\n",
    "def build_chain(selected_types: List[str], OPENAI_MODEL: str = \"gpt-5-mini\"):\n",
    "\n",
    "    EntitiesExtracted = build_entities_model(selected_types)\n",
    "    SYSTEM_PROMPT = build_system_prompt(selected_types)\n",
    "\n",
    "    prompt = ChatPromptTemplate.from_messages(\n",
    "        [\n",
    "            (\"system\", SYSTEM_PROMPT),\n",
    "            (\"user\", \"<Input Text Start>\\n\\n{input_text}\\n\\n<Input Text End>\\n\\nReturn the structured extraction.\"),\n",
    "        ]\n",
    "    )\n",
    "\n",
    "    llm = ChatOpenAI(model=OPENAI_MODEL, temperature=0, reasoning={\"effort\": \"minimal\"})\n",
    "    chain = prompt | llm.with_structured_output(EntitiesExtracted)\n",
    "    return chain, EntitiesExtracted"
   ]
  },
  {
   "cell_type": "code",
   "execution_count": 9,
   "metadata": {},
   "outputs": [],
   "source": [
    "# ---------- 6) Public API ----------\n",
    "ALL_TYPES = all_types\n",
    "\n",
    "def extract(text: str, OPENAI_MODEL: str = \"gpt-5-mini\") -> Dict:\n",
    "    selected_types = prefilter_entity_types(ALL_TYPES)            # <- your real prefilter goes here\n",
    "    chain, Entities = build_chain(selected_types, OPENAI_MODEL)\n",
    "    result = chain.invoke({\"input_text\": text})                   # a EntitiesDynamic instance\n",
    "    # Dump w/ exclude_none to drop anything not present\n",
    "    data = result.model_dump(exclude_none=True)\n",
    "\n",
    "    # Optional: remove keys that are empty lists (in case LLM returned [])\n",
    "    data = {k: v for k, v in data.items() if v not in (None, [], {})}\n",
    "    return data"
   ]
  },
  {
   "cell_type": "code",
   "execution_count": 10,
   "metadata": {},
   "outputs": [
    {
     "name": "stdout",
     "output_type": "stream",
     "text": [
      "== Extracting NER/RE with schema constraints ==\n",
      "{'Genes': [{'label': 'CDKN2A'}], 'SmallMolecules': [{'label': 'Hexachlorobenzene metabolite'}]}\n"
     ]
    }
   ],
   "source": [
    "sample_text = \"A Hexachlorobenzene metabolite increases methylation of a mutant form of the CDKN2A promoter in the nucleus of HeLa cells\"\n",
    "\n",
    "print(\"== Extracting NER/RE with schema constraints ==\")\n",
    "extraction = extract(sample_text)\n",
    "print(extraction)"
   ]
  },
  {
   "cell_type": "code",
   "execution_count": 11,
   "metadata": {},
   "outputs": [],
   "source": [
    "# sample_text = (\n",
    "#         \"In mouse cells, various proteins play crucial roles. \"\n",
    "#         \"For years, we considered insulin and EGFR as a major factor in causing diabetes.\"\n",
    "#         \"They can be inhibited by giving Imatinib to the mouse embryo within E10.5-E12.5\"\n",
    "#     )\n",
    "\n",
    "# print(\"== Extracting NER/RE with schema constraints ==\")\n",
    "# extraction = extract(sample_text)\n",
    "# print(extraction)"
   ]
  },
  {
   "cell_type": "code",
   "execution_count": 15,
   "metadata": {},
   "outputs": [
    {
     "data": {
      "text/plain": [
       "{'Genes': [{'label': 'CDKN2A'}],\n",
       " 'SmallMolecules': [{'label': 'Hexachlorobenzene metabolite'}]}"
      ]
     },
     "execution_count": 15,
     "metadata": {},
     "output_type": "execute_result"
    }
   ],
   "source": [
    "extraction"
   ]
  },
  {
   "cell_type": "code",
   "execution_count": 13,
   "metadata": {},
   "outputs": [
    {
     "data": {
      "text/plain": [
       "typing.Literal['a', 'b', 'c', 'd']"
      ]
     },
     "execution_count": 13,
     "metadata": {},
     "output_type": "execute_result"
    }
   ],
   "source": [
    "from typing import Literal, Type\n",
    "from pydantic import BaseModel, Field, create_model\n",
    "\n",
    "def _literal_type(values: list[str]):\n",
    "\n",
    "    return Literal[*values]  \n",
    "\n",
    "_literal_type(['a', 'b', 'c', 'a', 'b', 'd'])"
   ]
  },
  {
   "cell_type": "code",
   "execution_count": null,
   "metadata": {},
   "outputs": [],
   "source": []
  }
 ],
 "metadata": {
  "kernelspec": {
   "display_name": "base",
   "language": "python",
   "name": "python3"
  },
  "language_info": {
   "codemirror_mode": {
    "name": "ipython",
    "version": 3
   },
   "file_extension": ".py",
   "mimetype": "text/x-python",
   "name": "python",
   "nbconvert_exporter": "python",
   "pygments_lexer": "ipython3",
   "version": "3.12.11"
  }
 },
 "nbformat": 4,
 "nbformat_minor": 2
}
