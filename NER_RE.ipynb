{
 "cells": [
  {
   "cell_type": "code",
   "execution_count": 1,
   "metadata": {},
   "outputs": [],
   "source": [
    "from __future__ import annotations\n",
    "\n",
    "import os\n",
    "from typing import List, Optional, Dict, Type, Union\n",
    "\n",
    "from dotenv import load_dotenv\n",
    "from pydantic import BaseModel, Field, create_model, field_serializer\n",
    "from neo4j import GraphDatabase\n",
    "\n",
    "from langchain_core.prompts import ChatPromptTemplate\n",
    "from langchain_openai import ChatOpenAI\n",
    "import re"
   ]
  },
  {
   "cell_type": "code",
   "execution_count": 2,
   "metadata": {},
   "outputs": [],
   "source": [
    "load_dotenv()\n",
    "\n",
    "OPENAI_MODEL = os.getenv(\"OPENAI_MODEL\", \"gpt-5-mini\")\n",
    "OPENAI_API_KEY = os.getenv(\"OPENAI_API_KEY\")\n",
    "\n",
    "NEO4J_URI = os.getenv(\"NEO4J_URI\", \"bolt://localhost:7687\")\n",
    "NEO4J_USER = os.getenv(\"NEO4J_USER\", \"neo4j\")\n",
    "NEO4J_PASSWORD = os.getenv(\"NEO4J_PASSWORD\", \"neo4j\")"
   ]
  },
  {
   "cell_type": "markdown",
   "metadata": {},
   "source": [
    "STRUCTURED SCHEMA (Pydantic) — only allowed entities/edges appear"
   ]
  },
  {
   "cell_type": "code",
   "execution_count": 3,
   "metadata": {},
   "outputs": [
    {
     "data": {
      "text/plain": [
       "32"
      ]
     },
     "execution_count": 3,
     "metadata": {},
     "output_type": "execute_result"
    }
   ],
   "source": [
    "from entities import Entity_Collector\n",
    "\n",
    "ENTITY_MODEL_REGISTRY: Dict[str, Type[BaseModel]] = {\n",
    "    cls.__name__: cls for cls in Entity_Collector()\n",
    "}\n",
    "\n",
    "len(ENTITY_MODEL_REGISTRY)"
   ]
  },
  {
   "cell_type": "code",
   "execution_count": 4,
   "metadata": {},
   "outputs": [],
   "source": [
    "# ---------- 2) (Toy) prefilter that decides which types to include ----------\n",
    "def prefilter_entity_types(all_types: List[str]) -> List[str]:\n",
    "    \"\"\"\n",
    "    Replace with your real logic. For now, pretend we only want protein, gene, drug.\n",
    "    \"\"\"\n",
    "    allowed = {\"Gene\", \"Drug\", \"Cell\", \"TissueOrOrgan\",\"MouseDevelopmentalTimepoint\", \"BiologicalProcess\", \"Disease\", \"CNSFunction\"}\n",
    "    return [t for t in all_types if t in allowed]\n",
    "\n",
    "# ---------- 3) Dynamic Entities model factory ----------\n",
    "def build_entities_model(selected_types: List[str]) -> Type[BaseModel]:\n",
    "    \"\"\"\n",
    "    Create a Pydantic model class with only the selected types as optional List fields.\n",
    "    Each field is omitted from the final JSON if None.\n",
    "    \"\"\"\n",
    "    fields = {}\n",
    "    for t in selected_types:\n",
    "        item_model = ENTITY_MODEL_REGISTRY[t]\n",
    "        # Optional[List[item_model]] default None\n",
    "        fields[t + \"s\"] = (Optional[List[item_model]], Field(default=None))\n",
    "\n",
    "    model_name = \"ExtractedEntities\" \n",
    "    # Create the model\n",
    "    Entities = create_model(model_name, **fields, __doc__=\"Holds the lists of extracted entities divided by type\")\n",
    "\n",
    "    return Entities"
   ]
  },
  {
   "cell_type": "code",
   "execution_count": 5,
   "metadata": {},
   "outputs": [
    {
     "name": "stdout",
     "output_type": "stream",
     "text": [
      "<class 'pydantic._internal._model_construction.ModelMetaclass'>\n"
     ]
    },
    {
     "data": {
      "text/plain": [
       "{'Genes': FieldInfo(annotation=Union[List[Gene], NoneType], required=False, default=None),\n",
       " 'Diseases': FieldInfo(annotation=Union[List[Disease], NoneType], required=False, default=None),\n",
       " 'Drugs': FieldInfo(annotation=Union[List[Drug], NoneType], required=False, default=None),\n",
       " 'Cells': FieldInfo(annotation=Union[List[Cell], NoneType], required=False, default=None),\n",
       " 'TissueOrOrgans': FieldInfo(annotation=Union[List[TissueOrOrgan], NoneType], required=False, default=None),\n",
       " 'BiologicalProcesss': FieldInfo(annotation=Union[List[BiologicalProcess], NoneType], required=False, default=None),\n",
       " 'CNSFunctions': FieldInfo(annotation=Union[List[CNSFunction], NoneType], required=False, default=None),\n",
       " 'MouseDevelopmentalTimepoints': FieldInfo(annotation=Union[List[MouseDevelopmentalTimepoint], NoneType], required=False, default=None)}"
      ]
     },
     "execution_count": 5,
     "metadata": {},
     "output_type": "execute_result"
    }
   ],
   "source": [
    "# test above fucntions\n",
    "all_types = list(ENTITY_MODEL_REGISTRY.keys())\n",
    "selected_types = prefilter_entity_types(all_types)\n",
    "EntitiesModel = build_entities_model(selected_types)\n",
    "\n",
    "print(type(EntitiesModel))\n",
    "EntitiesModel.model_fields"
   ]
  },
  {
   "cell_type": "code",
   "execution_count": 6,
   "metadata": {},
   "outputs": [
    {
     "data": {
      "text/plain": [
       "{'$defs': {'BiologicalProcess': {'description': 'One or more causally connected executions of molecular functions.\\nExamples: \"cell cycle\", \"apoptosis\", \"DNA repair\", \"signal transduction\", \"angiogenesis\", \"autophagy\", \"immune response\".',\n",
       "   'properties': {'label': {'description': 'Surface form (name) of the BiologicalProcess as it appears in the text.',\n",
       "     'title': 'Label',\n",
       "     'type': 'string'}},\n",
       "   'required': ['label'],\n",
       "   'title': 'BiologicalProcess',\n",
       "   'type': 'object'},\n",
       "  'CNSFunction': {'description': 'A specific function or process carried out by the central nervous system (CNS), which includes the brain and spinal cord.\\nExamples: \"Vision\", \"motor control\", \"temperature regulation\", \"emotional regulation\", \"language comprehension\", \"hearing\", \"balance\", \"breathing control\".',\n",
       "   'properties': {'label': {'description': 'Surface form (name) of the CNSFunction as it appears in the text.',\n",
       "     'title': 'Label',\n",
       "     'type': 'string'},\n",
       "    'type': {'anyOf': [{'enum': ['SensoryFunction',\n",
       "        'MotorFunction',\n",
       "        'RegulatoryFunction',\n",
       "        'HigherCognitiveFunction'],\n",
       "       'type': 'string'},\n",
       "      {'type': 'null'}],\n",
       "     'default': None,\n",
       "     'description': 'Type of CNS function, None if generic or other.',\n",
       "     'title': 'Type'}},\n",
       "   'required': ['label'],\n",
       "   'title': 'CNSFunction',\n",
       "   'type': 'object'},\n",
       "  'Cell': {'description': 'A basic living unit of an organism, often a specialized cell type in multicellular organisms.\\nExamples: \"hematopoietic stem cell\", \"radial glial cell\", \"dopaminergic neuron\", \"astrocyte\", \"CD4+ T cell\", \"keratinocyte\", \"vascular endothelial cell\", \"fibroblast\", \"cardiomyocyte\", \"oocyte\", \"erythrocyte\".',\n",
       "   'properties': {'label': {'description': 'Surface form (name) of the Cell as it appears in the text.',\n",
       "     'title': 'Label',\n",
       "     'type': 'string'},\n",
       "    'type': {'anyOf': [{'enum': ['StemCel',\n",
       "        'ProgenitorCell',\n",
       "        'Neuron',\n",
       "        'GlialCell',\n",
       "        'ImmuneCell',\n",
       "        'EpithelialCell',\n",
       "        'EndothelialCell',\n",
       "        'MesenchymalCell',\n",
       "        'MuscleCell',\n",
       "        'GermCell',\n",
       "        'BloodCell'],\n",
       "       'type': 'string'},\n",
       "      {'type': 'null'}],\n",
       "     'default': None,\n",
       "     'description': 'Type of cell, None if generic or other.',\n",
       "     'title': 'Type'}},\n",
       "   'required': ['label'],\n",
       "   'title': 'Cell',\n",
       "   'type': 'object'},\n",
       "  'Disease': {'description': 'A medical condition or disorder affecting an organism, typically with recognized signs/symptoms or pathology.\\nExamples: \"Alzheimer\\'s disease\", \"Type 2 diabetes\", \"Breast cancer\", \"Cystic fibrosis\", \"Malaria\".',\n",
       "   'properties': {'label': {'description': 'Surface form (name) of the Disease as it appears in the text.',\n",
       "     'title': 'Label',\n",
       "     'type': 'string'}},\n",
       "   'required': ['label'],\n",
       "   'title': 'Disease',\n",
       "   'type': 'object'},\n",
       "  'Drug': {'description': 'A medicine, chemical or biologic agent used to treat, cure, prevent, mitigate or diagnose disease.\\nExamples: \"Imatinib\", \"Aspirin\", \"Trastuzumab\", \"Metformin\", \"Penicillin\", \"Nivolumab\", \"Atorvastatin\".',\n",
       "   'properties': {'label': {'description': 'Surface form (name) of the Drug as it appears in the text.',\n",
       "     'title': 'Label',\n",
       "     'type': 'string'}},\n",
       "   'required': ['label'],\n",
       "   'title': 'Drug',\n",
       "   'type': 'object'},\n",
       "  'Gene': {'description': 'A stretch of DNA (or locus) that encodes (or is associated with) a functional product, such as an RNA or protein.\\nExamples: \"BRCA1\", \"TP53\", \"EGFR gene\", \"MYC\", \"APOE\".',\n",
       "   'properties': {'label': {'description': 'Surface form (name) of the Gene as it appears in the text.',\n",
       "     'title': 'Label',\n",
       "     'type': 'string'}},\n",
       "   'required': ['label'],\n",
       "   'title': 'Gene',\n",
       "   'type': 'object'},\n",
       "  'MouseDevelopmentalTimepoint': {'description': 'Developmental timepoints (or ranges) used specifically for Mus musculus (mouse).\\nEmbryonic examples:\\n  - Embryonic day: \"pre-E5\", \"E10\", \"E12.5\"  (a.k.a. 12.5 dpc)\\n  - Somite count: \"16-somite stage\" \\n  - Theiler stage: \"TS17\" \\nPostnatal examples:\\n  - Postnatal day: \"P0\", \"P14\"\\n  - Postnatal week/month: \"PW6\" (week), \"PM3\" (month)\\n  - Lactation day (dam-centric): \"LD10\"',\n",
       "   'properties': {'label': {'description': 'Surface form (name) of the MouseDevelopmentalTimepoint as it appears in the text.',\n",
       "     'title': 'Label',\n",
       "     'type': 'string'},\n",
       "    'type': {'anyOf': [{'enum': ['Embryonic', 'Postnatal'], 'type': 'string'},\n",
       "      {'type': 'null'}],\n",
       "     'default': None,\n",
       "     'description': 'Broad developmental phase, None if generic or other.',\n",
       "     'title': 'Type'},\n",
       "    'scale': {'anyOf': [{'enum': ['E', 'Somite', 'TS', 'P', 'PW', 'PM', 'LD'],\n",
       "       'type': 'string'},\n",
       "      {'type': 'null'}],\n",
       "     'default': None,\n",
       "     'description': 'Mentioned/infered developmental scale',\n",
       "     'title': 'Scale'},\n",
       "    'start_value': {'anyOf': [{'type': 'number'}, {'type': 'null'}],\n",
       "     'default': None,\n",
       "     'description': 'Numeric value (or start if range) on the selected scale (e.g., 12.5 for E12.5, 16 for 16-somite, 10 for E10-E12 or P10-P14)',\n",
       "     'title': 'Start Value'},\n",
       "    'end_value': {'anyOf': [{'type': 'number'}, {'type': 'null'}],\n",
       "     'default': None,\n",
       "     'description': 'If range, end value on the same scale (e.g., 14 for E12.5-E14)',\n",
       "     'title': 'End Value'}},\n",
       "   'required': ['label'],\n",
       "   'title': 'MouseDevelopmentalTimepoint',\n",
       "   'type': 'object'},\n",
       "  'TissueOrOrgan': {'description': 'A multicellular structure or collection of cells forming a functional part of an organism.\\nExamples: \"liver\", \"kidney cortex\", \"heart tissue\", \"pancreatic islets\", \"skeletal muscle\", \"retina\", \"bone marrow\".',\n",
       "   'properties': {'label': {'description': 'Surface form (name) of the TissueOrOrgan as it appears in the text.',\n",
       "     'title': 'Label',\n",
       "     'type': 'string'}},\n",
       "   'required': ['label'],\n",
       "   'title': 'TissueOrOrgan',\n",
       "   'type': 'object'}},\n",
       " 'description': 'Holds the lists of extracted entities divided by type',\n",
       " 'properties': {'Genes': {'anyOf': [{'items': {'$ref': '#/$defs/Gene'},\n",
       "     'type': 'array'},\n",
       "    {'type': 'null'}],\n",
       "   'default': None,\n",
       "   'title': 'Genes'},\n",
       "  'Diseases': {'anyOf': [{'items': {'$ref': '#/$defs/Disease'},\n",
       "     'type': 'array'},\n",
       "    {'type': 'null'}],\n",
       "   'default': None,\n",
       "   'title': 'Diseases'},\n",
       "  'Drugs': {'anyOf': [{'items': {'$ref': '#/$defs/Drug'}, 'type': 'array'},\n",
       "    {'type': 'null'}],\n",
       "   'default': None,\n",
       "   'title': 'Drugs'},\n",
       "  'Cells': {'anyOf': [{'items': {'$ref': '#/$defs/Cell'}, 'type': 'array'},\n",
       "    {'type': 'null'}],\n",
       "   'default': None,\n",
       "   'title': 'Cells'},\n",
       "  'TissueOrOrgans': {'anyOf': [{'items': {'$ref': '#/$defs/TissueOrOrgan'},\n",
       "     'type': 'array'},\n",
       "    {'type': 'null'}],\n",
       "   'default': None,\n",
       "   'title': 'Tissueororgans'},\n",
       "  'BiologicalProcesss': {'anyOf': [{'items': {'$ref': '#/$defs/BiologicalProcess'},\n",
       "     'type': 'array'},\n",
       "    {'type': 'null'}],\n",
       "   'default': None,\n",
       "   'title': 'Biologicalprocesss'},\n",
       "  'CNSFunctions': {'anyOf': [{'items': {'$ref': '#/$defs/CNSFunction'},\n",
       "     'type': 'array'},\n",
       "    {'type': 'null'}],\n",
       "   'default': None,\n",
       "   'title': 'Cnsfunctions'},\n",
       "  'MouseDevelopmentalTimepoints': {'anyOf': [{'items': {'$ref': '#/$defs/MouseDevelopmentalTimepoint'},\n",
       "     'type': 'array'},\n",
       "    {'type': 'null'}],\n",
       "   'default': None,\n",
       "   'title': 'Mousedevelopmentaltimepoints'}},\n",
       " 'title': 'ExtractedEntities',\n",
       " 'type': 'object'}"
      ]
     },
     "execution_count": 6,
     "metadata": {},
     "output_type": "execute_result"
    }
   ],
   "source": [
    "EntitiesModel.model_json_schema() # also docstrings of nested classes are included !!!"
   ]
  },
  {
   "cell_type": "markdown",
   "metadata": {},
   "source": [
    "SYSTEM PROMPT"
   ]
  },
  {
   "cell_type": "code",
   "execution_count": 7,
   "metadata": {},
   "outputs": [],
   "source": [
    "# ---------- 4) Prompt builder that reflects the selected types ----------\n",
    "def build_system_prompt(selected_types: List[str]) -> str:\n",
    "    type_list = \", \".join(selected_types)\n",
    "    return f\"\"\"You are a state-of-the-art biological information extraction model that performs Named Entity Recognition (NER);\n",
    "    \n",
    "Return ONLY these entity classes: {type_list}.\n",
    "\n",
    "INSTRUCTIONS:\n",
    "- Extract entities only if they match the allowed entity class.\n",
    "- Use the exact surface form from the text for labels (do not normalize or invent).\n",
    "- Do not repeat/duplicate entities even if they appear multiple times in the text.\n",
    "- If nothing is found for a class, it should be None (so it can be dropped from the JSON).\n",
    "- For class fields like types and other attributes, use your knowledge to fill them, if too ambiguous use None.\n",
    "- Keep concise entities labels, no need to specify their class in the label (e.g from \"... protein pt42 ...\" extract \"pt42\" as label not \"protein pt42\").\n",
    "\n",
    "Output MUST conform to the provided schema you were given via the structured output tool.\n",
    "\"\"\"\n"
   ]
  },
  {
   "cell_type": "markdown",
   "metadata": {},
   "source": [
    "LLM CHAIN"
   ]
  },
  {
   "cell_type": "code",
   "execution_count": 8,
   "metadata": {},
   "outputs": [],
   "source": [
    "# ---------- 5) Chain factory ----------\n",
    "def build_chain(selected_types: List[str], OPENAI_MODEL: str = \"gpt-5-mini\"):\n",
    "\n",
    "    EntitiesExtracted = build_entities_model(selected_types)\n",
    "    SYSTEM_PROMPT = build_system_prompt(selected_types)\n",
    "\n",
    "    prompt = ChatPromptTemplate.from_messages(\n",
    "        [\n",
    "            (\"system\", SYSTEM_PROMPT),\n",
    "            (\"user\", \"<Input Text Start>\\n\\n{input_text}\\n\\n<Input Text End>\\n\\nReturn the structured extraction.\"),\n",
    "        ]\n",
    "    )\n",
    "\n",
    "    llm = ChatOpenAI(model=OPENAI_MODEL, temperature=0, reasoning={\"effort\": \"low\"})\n",
    "    chain = prompt | llm.with_structured_output(EntitiesExtracted)\n",
    "    return chain, EntitiesExtracted"
   ]
  },
  {
   "cell_type": "code",
   "execution_count": 9,
   "metadata": {},
   "outputs": [],
   "source": [
    "# ---------- 6) Public API ----------\n",
    "ALL_TYPES = all_types\n",
    "\n",
    "\n",
    "def extract(text: str, OPENAI_MODEL: str = \"gpt-5-mini\") -> Dict:\n",
    "    selected_types = prefilter_entity_types(ALL_TYPES)            # <- your real prefilter goes here\n",
    "    chain, Entities = build_chain(selected_types, OPENAI_MODEL)\n",
    "    result = chain.invoke({\"input_text\": text})                   # a EntitiesDynamic instance\n",
    "    # Dump w/ exclude_none to drop anything not present\n",
    "    data = result.model_dump(exclude_none=True)\n",
    "\n",
    "    # Optional: remove keys that are empty lists (in case LLM returned [])\n",
    "    data = {k: v for k, v in data.items() if v not in (None, [], {})}\n",
    "    return data"
   ]
  },
  {
   "cell_type": "code",
   "execution_count": 12,
   "metadata": {},
   "outputs": [
    {
     "name": "stdout",
     "output_type": "stream",
     "text": [
      "== Extracting NER/RE with schema constraints ==\n",
      "{'Cells': [{'label': 'motor neurons', 'type': 'Neuron'}, {'label': 'cerebellar Purkinje cells', 'type': 'Neuron'}, {'label': 'Cajal-Retzius cells', 'type': 'Neuron'}, {'label': 'intermediate neuronal progenitors', 'type': 'ProgenitorCell'}, {'label': 'deep-layer neurons', 'type': 'Neuron'}, {'label': 'upper-layer neurons', 'type': 'Neuron'}, {'label': 'subplate neurons', 'type': 'Neuron'}, {'label': 'cortical interneurons', 'type': 'Neuron'}, {'label': 'glutamatergic', 'type': 'Neuron'}, {'label': 'GABAergic (γ-aminobutyric acid-producing) neurons', 'type': 'Neuron'}, {'label': 'dorsal or ventral spinal cord progenitors', 'type': 'ProgenitorCell'}], 'TissueOrOrgans': [{'label': 'spinal cord'}, {'label': 'neuroectoderm'}], 'BiologicalProcesss': [{'label': 'direct neurogenesis'}, {'label': 'Indirect neurogenesis'}, {'label': 'neurogenesis'}], 'CNSFunctions': [{'label': 'inhibitory'}, {'label': 'excitatory'}], 'MouseDevelopmentalTimepoints': [{'label': '16-somite stage', 'type': 'Embryonic', 'scale': 'Somite', 'start_value': 16.0}, {'label': 'E10.25', 'type': 'Embryonic', 'scale': 'E', 'start_value': 10.25}, {'label': 'pre-E13', 'type': 'Embryonic', 'scale': 'E', 'end_value': 13.0}]}\n"
     ]
    }
   ],
   "source": [
    "sample_text = \"Beginning as early as the 16-somite stage, most neuronal diversity derives from direct neurogenesis (Fig. 4d), including motor neurons, cerebellar Purkinje cells, Cajal-Retzius cells and many other subtypes (CNS neurons sub-panel of Extended Data Fig. 3). Indirect neurogenesis52 has a later start, with intermediate neuronal progenitors first detected at E10.25, later giving rise to deep-layer neurons, upper-layer neurons, subplate neurons, and cortical interneurons (Fig. 4d and Extended Data Fig. 10a,b). Although many subtypes deriving from direct neurogenesis are easily distinguished, the majority (55%) of these 2.1 million cells could initially only be coarsely annotated as glutamatergic or GABAergic (γ-aminobutyric acid-producing) neurons or dorsal or ventral spinal cord progenitors. To leverage the greater heterogeneity evident at early stages as these trajectories ‘launch’ from the patterned neuroectoderm, we re-analysed the pre-E13 subset. This facilitated much more granular annotation, while also highlighting sources of heterogeneity—for example, anterior versus posterior or inhibitory versus excitatory (Fig. 4e, Extended Data Fig. 10c,d and Supplementary Table 12).\"\n",
    "\n",
    "print(\"== Extracting NER/RE with schema constraints ==\")\n",
    "extraction = extract(sample_text)\n",
    "print(extraction)"
   ]
  },
  {
   "cell_type": "code",
   "execution_count": 10,
   "metadata": {},
   "outputs": [
    {
     "name": "stdout",
     "output_type": "stream",
     "text": [
      "== Extracting NER/RE with schema constraints ==\n",
      "{'Proteins': [{'label': 'insulin', 'type': 'hormone'}, {'label': 'EGFR', 'type': 'Receptor'}], 'Diseases': [{'label': 'diabetes'}], 'Drugs': [{'label': 'Imatinib'}], 'MouseDevelopmentalTimepoints': [{'label': 'E10.5-E12.5', 'type': 'Embryonic', 'scale': 'E', 'start_value': 10.5, 'end_value': 12.5}]}\n"
     ]
    }
   ],
   "source": [
    "sample_text = (\n",
    "        \"In mouse cells, various proteins play crucial roles. \"\n",
    "        \"For years, we considered insulin and EGFR as a major factor in causing diabetes.\"\n",
    "        \"They can be inhibited by giving Imatinib to the mouse embryo within E10.5-E12.5\"\n",
    "    )\n",
    "\n",
    "print(\"== Extracting NER/RE with schema constraints ==\")\n",
    "extraction = extract(sample_text)\n",
    "print(extraction)"
   ]
  }
 ],
 "metadata": {
  "kernelspec": {
   "display_name": "base",
   "language": "python",
   "name": "python3"
  },
  "language_info": {
   "codemirror_mode": {
    "name": "ipython",
    "version": 3
   },
   "file_extension": ".py",
   "mimetype": "text/x-python",
   "name": "python",
   "nbconvert_exporter": "python",
   "pygments_lexer": "ipython3",
   "version": "3.12.11"
  }
 },
 "nbformat": 4,
 "nbformat_minor": 2
}
